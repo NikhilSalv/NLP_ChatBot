{
 "cells": [
  {
   "cell_type": "code",
   "execution_count": 1,
   "id": "6e55efca-60a0-4ce5-84cc-cc7f2924cd96",
   "metadata": {
    "scrolled": true
   },
   "outputs": [],
   "source": [
    "import pandas as pd\n",
    "from sklearn.model_selection import train_test_split\n",
    "from sklearn.preprocessing import LabelEncoder, OneHotEncoder\n",
    "from sklearn.ensemble import RandomForestClassifier\n",
    "from sklearn.metrics import accuracy_score\n",
    "import pickle\n",
    "\n",
    "# Load the dataset\n",
    "df = pd.read_csv('Student_course_data.csv')\n",
    "\n",
    "# Drop unnecessary columns\n",
    "df = df.drop(columns=['User_ID', 'Name', 'Courses Explored', 'Completion Status', 'Feedback Rating'])\n",
    "\n",
    "# Preprocessing: One-hot encode categorical variables\n",
    "df_encoded = pd.get_dummies(df, columns=['Experience Level', 'Preferred Learning Mode', 'Area of Interest', 'Technologies of Interest'])\n",
    "\n",
    "# Label encode the target column (Courses Enrolled)\n",
    "label_encoder = LabelEncoder()\n",
    "df_encoded['Courses Enrolled'] = label_encoder.fit_transform(df_encoded['Courses Enrolled'])\n",
    "\n"
   ]
  },
  {
   "cell_type": "code",
   "execution_count": 2,
   "id": "ec48232d-a7ad-4294-9a09-5b9f6d458abd",
   "metadata": {},
   "outputs": [],
   "source": [
    "# Define features (X) and target (y)\n",
    "X = df_encoded.drop(columns=['Courses Enrolled'])\n",
    "y = df_encoded['Courses Enrolled']\n",
    "\n",
    "# Split the data into training and test sets\n",
    "X_train, X_test, y_train, y_test = train_test_split(X, y, test_size=0.2, random_state=42)\n",
    "\n",
    "# Train a RandomForestClassifier\n",
    "clf = RandomForestClassifier(n_estimators=100, random_state=42)\n",
    "clf.fit(X_train, y_train)\n",
    "\n",
    "pickle.dump(clf,open(\"model.pkl\",\"wb\"))\n"
   ]
  },
  {
   "cell_type": "code",
   "execution_count": 3,
   "id": "06aeae26-d001-4eb0-96a0-a07ce026ad93",
   "metadata": {},
   "outputs": [],
   "source": [
    "model = pickle.load(open('model.pkl', 'rb'))"
   ]
  },
  {
   "cell_type": "code",
   "execution_count": 4,
   "id": "1b460ccd-78bd-419e-8e61-700712c97e31",
   "metadata": {},
   "outputs": [],
   "source": [
    "predicted_from_pickle = model.predict(X_test)"
   ]
  },
  {
   "cell_type": "code",
   "execution_count": 5,
   "id": "bf4e6aab-c656-4804-b48c-2cf1ab9b31fc",
   "metadata": {},
   "outputs": [
    {
     "data": {
      "text/plain": [
       "(100, 15)"
      ]
     },
     "execution_count": 5,
     "metadata": {},
     "output_type": "execute_result"
    }
   ],
   "source": [
    "X_test.shape"
   ]
  },
  {
   "cell_type": "code",
   "execution_count": 6,
   "id": "576bd417-ed12-4c32-89fa-ae3c84fada8e",
   "metadata": {},
   "outputs": [
    {
     "data": {
      "text/plain": [
       "(100,)"
      ]
     },
     "execution_count": 6,
     "metadata": {},
     "output_type": "execute_result"
    }
   ],
   "source": [
    "predicted_from_pickle.shape"
   ]
  },
  {
   "cell_type": "code",
   "execution_count": 7,
   "id": "b5a8929a-8364-4925-9e6c-494ce9aeb1a2",
   "metadata": {},
   "outputs": [
    {
     "name": "stdout",
     "output_type": "stream",
     "text": [
      "Model accuracy: 29.00%\n"
     ]
    }
   ],
   "source": [
    "\n",
    "\n",
    "# Predict on the test set\n",
    "y_pred = clf.predict(X_test)\n",
    "\n",
    "# Evaluate the model\n",
    "accuracy = accuracy_score(y_test, y_pred)\n",
    "print(f\"Model accuracy: {accuracy * 100:.2f}%\")"
   ]
  },
  {
   "cell_type": "code",
   "execution_count": 8,
   "id": "df3e17cf-5000-4e06-8feb-44cc12325ca5",
   "metadata": {},
   "outputs": [],
   "source": [
    "\n",
    "# Function to get top 2 recommended courses for a user\n",
    "def recommend_courses(user_data, model, encoder, num_recommendations=2):\n",
    "    # Predict course probabilities for the user\n",
    "    course_probs = model.predict_proba([user_data])[0]\n",
    "    \n",
    "    # Get the indices of the top recommended courses\n",
    "    top_courses_indices = course_probs.argsort()[-num_recommendations:][::-1]\n",
    "    \n",
    "    # Convert back to course names\n",
    "    recommended_courses = encoder.inverse_transform(top_courses_indices)\n",
    "    \n",
    "    return recommended_courses\n",
    "\n",
    "# Example usage: Predict for a single user (from the test set)\n"
   ]
  },
  {
   "cell_type": "code",
   "execution_count": 9,
   "id": "4ce9c7c3-66b5-4fd2-a855-96ec825c1ae2",
   "metadata": {},
   "outputs": [
    {
     "name": "stdout",
     "output_type": "stream",
     "text": [
      "Top 2 recommended courses for user 1: ['JavaScript Essentials' 'Intro to HTML, CSS']\n"
     ]
    },
    {
     "name": "stderr",
     "output_type": "stream",
     "text": [
      "/opt/homebrew/lib/python3.11/site-packages/sklearn/base.py:493: UserWarning: X does not have valid feature names, but RandomForestClassifier was fitted with feature names\n",
      "  warnings.warn(\n"
     ]
    }
   ],
   "source": [
    "user_index = 1  # change this index to test with different users\n",
    "user_data = X_test.iloc[user_index]\n",
    "recommended_courses = recommend_courses(user_data, clf, label_encoder)\n",
    "\n",
    "print(f\"Top 2 recommended courses for user {user_index}: {recommended_courses}\")"
   ]
  },
  {
   "cell_type": "code",
   "execution_count": null,
   "id": "7359eec2-f8a0-43d4-a3bf-938227458967",
   "metadata": {},
   "outputs": [],
   "source": []
  },
  {
   "cell_type": "code",
   "execution_count": null,
   "id": "c12952ac-9e89-4eb2-9879-5b3c3d9432d0",
   "metadata": {},
   "outputs": [],
   "source": []
  },
  {
   "cell_type": "code",
   "execution_count": null,
   "id": "f05ead10-7d5c-4ddc-8b04-20bcdaf0771f",
   "metadata": {},
   "outputs": [],
   "source": []
  },
  {
   "cell_type": "code",
   "execution_count": null,
   "id": "68605bd7-6122-4867-b06f-c4765c457e76",
   "metadata": {},
   "outputs": [],
   "source": []
  }
 ],
 "metadata": {
  "kernelspec": {
   "display_name": "Python 3 (ipykernel)",
   "language": "python",
   "name": "python3"
  },
  "language_info": {
   "codemirror_mode": {
    "name": "ipython",
    "version": 3
   },
   "file_extension": ".py",
   "mimetype": "text/x-python",
   "name": "python",
   "nbconvert_exporter": "python",
   "pygments_lexer": "ipython3",
   "version": "3.11.9"
  }
 },
 "nbformat": 4,
 "nbformat_minor": 5
}
